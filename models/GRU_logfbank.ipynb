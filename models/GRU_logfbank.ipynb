{
 "cells": [
  {
   "cell_type": "code",
   "execution_count": 10,
   "metadata": {},
   "outputs": [],
   "source": [
    "import numpy as np\n",
    "import h5py\n",
    "import pandas as pd\n",
    "\n",
    "hf_x = h5py.File('../data/logfbank_x.h5', 'r')\n",
    "x_train = hf_x.get('x_train_data')[()]\n",
    "\n",
    "hf_y = h5py.File('../data/logfbank_y.h5', 'r')\n",
    "y_train = hf_y.get('y_train_data')[()]\n",
    "\n"
   ]
  },
  {
   "cell_type": "code",
   "execution_count": 5,
   "metadata": {},
   "outputs": [
    {
     "data": {
      "text/plain": [
       "((64727, 49, 26), (64727, 12))"
      ]
     },
     "execution_count": 5,
     "metadata": {},
     "output_type": "execute_result"
    }
   ],
   "source": [
    "(x_train.shape, y_train.shape)"
   ]
  },
  {
   "cell_type": "code",
   "execution_count": 16,
   "metadata": {},
   "outputs": [],
   "source": [
    "G = pd.read_csv('../data/group.csv')\n",
    "G = np.array(G.values)"
   ]
  },
  {
   "cell_type": "code",
   "execution_count": 17,
   "metadata": {},
   "outputs": [],
   "source": [
    "from tensorflow.keras.layers import GRU, GlobalMaxPooling2D, Convolution2D, Dense, Input, Flatten, Dropout, MaxPooling2D, BatchNormalization, Conv3D, ConvLSTM2D\n",
    "from tensorflow.keras.models import Sequential, Model\n",
    "from sklearn.model_selection import GroupKFold\n",
    "from sklearn.model_selection import train_test_split"
   ]
  },
  {
   "cell_type": "code",
   "execution_count": 18,
   "metadata": {},
   "outputs": [
    {
     "name": "stdout",
     "output_type": "stream",
     "text": [
      "Model: \"sequential_2\"\n",
      "_________________________________________________________________\n",
      "Layer (type)                 Output Shape              Param #   \n",
      "=================================================================\n",
      "unified_gru_2 (UnifiedGRU)   (None, 256)               218112    \n",
      "_________________________________________________________________\n",
      "dropout_2 (Dropout)          (None, 256)               0         \n",
      "_________________________________________________________________\n",
      "dense_2 (Dense)              (None, 12)                3084      \n",
      "=================================================================\n",
      "Total params: 221,196\n",
      "Trainable params: 221,196\n",
      "Non-trainable params: 0\n",
      "_________________________________________________________________\n"
     ]
    }
   ],
   "source": [
    "gru = Sequential()\n",
    "#model.add(GRU(256,input_shape=(99,26)))\n",
    "gru.add(GRU(256,input_shape=(49,26)))\n",
    "gru.add(Dropout(0.5))\n",
    "gru.add(Dense(12, activation='softmax'))\n",
    "#model.add(Dense(12, activation='sigmoid'))\n",
    "gru.compile(optimizer='adam',loss='categorical_crossentropy',metrics=['categorical_accuracy'])\n",
    "gru.summary()\n",
    "weights = gru.get_weights()"
   ]
  },
  {
   "cell_type": "code",
   "execution_count": null,
   "metadata": {},
   "outputs": [
    {
     "name": "stdout",
     "output_type": "stream",
     "text": [
      "Train on 48545 samples, validate on 16182 samples\n",
      "Epoch 1/10\n",
      "48545/48545 [==============================] - 162s 3ms/sample - loss: 0.5987 - categorical_accuracy: 0.8169 - val_loss: 0.3054 - val_categorical_accuracy: 0.9043\n",
      "Epoch 2/10\n",
      "48545/48545 [==============================] - 160s 3ms/sample - loss: 0.3208 - categorical_accuracy: 0.9032 - val_loss: 0.2889 - val_categorical_accuracy: 0.9114\n",
      "Epoch 3/10\n",
      "48545/48545 [==============================] - 166s 3ms/sample - loss: 0.2733 - categorical_accuracy: 0.9188 - val_loss: 0.2613 - val_categorical_accuracy: 0.9197\n",
      "Epoch 4/10\n",
      "48545/48545 [==============================] - 161s 3ms/sample - loss: 0.2543 - categorical_accuracy: 0.9224 - val_loss: 0.2587 - val_categorical_accuracy: 0.9216\n",
      "Epoch 5/10\n",
      "48545/48545 [==============================] - 162s 3ms/sample - loss: 0.2361 - categorical_accuracy: 0.9288 - val_loss: 0.2520 - val_categorical_accuracy: 0.9253\n",
      "Epoch 6/10\n",
      "48545/48545 [==============================] - 159s 3ms/sample - loss: 0.2268 - categorical_accuracy: 0.9322 - val_loss: 0.2586 - val_categorical_accuracy: 0.9234\n",
      "Epoch 7/10\n",
      "48545/48545 [==============================] - 163s 3ms/sample - loss: 0.2214 - categorical_accuracy: 0.9326 - val_loss: 0.2537 - val_categorical_accuracy: 0.9300\n",
      "Epoch 8/10\n",
      "48545/48545 [==============================] - 161s 3ms/sample - loss: 0.2192 - categorical_accuracy: 0.9341 - val_loss: 0.2573 - val_categorical_accuracy: 0.9275\n",
      "Epoch 9/10\n",
      "48545/48545 [==============================] - 167s 3ms/sample - loss: 0.2117 - categorical_accuracy: 0.9376 - val_loss: 0.2397 - val_categorical_accuracy: 0.9308\n",
      "Epoch 10/10\n",
      "48545/48545 [==============================] - 161s 3ms/sample - loss: 0.2049 - categorical_accuracy: 0.9384 - val_loss: 0.2603 - val_categorical_accuracy: 0.9254\n",
      "Train on 48545 samples, validate on 16182 samples\n",
      "Epoch 1/10\n",
      "48545/48545 [==============================] - 162s 3ms/sample - loss: 0.6605 - categorical_accuracy: 0.7992 - val_loss: 0.3682 - val_categorical_accuracy: 0.8888\n",
      "Epoch 2/10\n",
      "48545/48545 [==============================] - 159s 3ms/sample - loss: 0.3223 - categorical_accuracy: 0.9036 - val_loss: 0.3733 - val_categorical_accuracy: 0.8957\n",
      "Epoch 3/10\n",
      " 4800/48545 [=>............................] - ETA: 2:11 - loss: 0.2712 - categorical_accuracy: 0.9229"
     ]
    }
   ],
   "source": [
    "NUM_FOLDS = 4\n",
    "EPOCHS = 10\n",
    "BATCH_SIZE = 16\n",
    "BAGS =1\n",
    "\n",
    "kf = GroupKFold(n_splits=NUM_FOLDS)\n",
    "\n",
    "for bag in range(BAGS):\n",
    "    fold = 0\n",
    "\n",
    "    val_loss = np.ones((EPOCHS,NUM_FOLDS),np.float32)\n",
    "\n",
    "    for train, val in kf.split(x_train,y_train,G):\n",
    "        gru.set_weights(weights)\n",
    "        gru.reset_states()\n",
    "        history = gru.fit(x_train[train], y_train[train], batch_size=BATCH_SIZE, validation_data=(x_train[val], y_train[val]), epochs=EPOCHS, shuffle=True, verbose=1)\n",
    "        val_loss[:,fold] = history.history['val_loss']\n",
    "        fold += 1\n",
    "\n",
    "    val_mean = np.mean(val_loss,axis=1)\n",
    "    best_loss = np.min(val_mean)\n",
    "    best_epoch = np.argmin(val_mean)\n",
    "    print('Best epoch: {} Best loss: {}'.format(best_epoch,best_loss))\n",
    "    \n",
    "    gru.set_weights(weights)\n",
    "    gru.reset_states()\n",
    "    gru.fit(x_train, y_train, batch_size=BATCH_SIZE, epochs=best_epoch, shuffle=True, verbose=1)\n",
    "\n",
    "    #model.save('models/gru_{}_{}.h5'.format(bag+1,best_loss))"
   ]
  },
  {
   "cell_type": "code",
   "execution_count": null,
   "metadata": {},
   "outputs": [],
   "source": []
  }
 ],
 "metadata": {
  "kernelspec": {
   "display_name": "Python 3",
   "language": "python",
   "name": "python3"
  },
  "language_info": {
   "codemirror_mode": {
    "name": "ipython",
    "version": 3
   },
   "file_extension": ".py",
   "mimetype": "text/x-python",
   "name": "python",
   "nbconvert_exporter": "python",
   "pygments_lexer": "ipython3",
   "version": "3.6.9"
  }
 },
 "nbformat": 4,
 "nbformat_minor": 2
}
