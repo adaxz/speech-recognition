{
 "cells": [
  {
   "cell_type": "code",
   "execution_count": null,
   "metadata": {},
   "outputs": [],
   "source": [
    "import numpy as np\n",
    "import h5py\n",
    "\n",
    "hf_x = h5py.File('../data/mfcc_x.h5', 'r')\n",
    "X_train = hf_x.get('x_train_data')[()]\n",
    "\n",
    "hf_y = h5py.File('../data/mfcc_y.h55', 'r')\n",
    "y_train = hf_y.get('y_train_data')[()]\n",
    "\n",
    "(X_train.shape, y_train.shape)"
   ]
  },
  {
   "cell_type": "code",
   "execution_count": null,
   "metadata": {},
   "outputs": [],
   "source": [
    "from tensorflow.keras.layers import GRU, GlobalMaxPooling2D, Convolution2D, Dense, Input, Flatten, Dropout, MaxPooling2D, BatchNormalization, Conv3D, ConvLSTM2D\n",
    "from tensorflow.keras.models import Sequential, Model\n",
    "from sklearn.model_selection import GroupKFold\n",
    "from sklearn.model_selection import train_test_split\n",
    "\n",
    "gru = Sequential()\n",
    "#model.add(GRU(256,input_shape=(99,26)))\n",
    "gru.add(GRU(256,input_shape=(49,13)))\n",
    "gru.add(Dropout(0.5))\n",
    "gru.add(Dense(12, activation='softmax'))\n",
    "#model.add(Dense(12, activation='sigmoid'))\n",
    "gru.compile(optimizer='adam',loss='categorical_crossentropy',metrics=['categorical_accuracy'])\n",
    "gru.summary()\n",
    "weights = gru.get_weights()"
   ]
  },
  {
   "cell_type": "code",
   "execution_count": null,
   "metadata": {},
   "outputs": [],
   "source": [
    "NUM_FOLDS = 4\n",
    "EPOCHS = 10\n",
    "BATCH_SIZE = 16\n",
    "BAGS = 5\n",
    "\n",
    "kf = GroupKFold(n_splits=NUM_FOLDS)\n",
    "\n",
    "kf = GroupKFold(n_splits=NUM_FOLDS)\n",
    "\n",
    "for bag in range(BAGS):\n",
    "    fold = 0\n",
    "\n",
    "    val_loss = np.ones((EPOCHS,NUM_FOLDS),np.float32)\n",
    "\n",
    "    for train, val in kf.split(x_train,y_train,G):\n",
    "        gru.set_weights(weights)\n",
    "        gru.reset_states()\n",
    "        history = gru.fit(x_train[train], y_train[train], batch_size=BATCH_SIZE, validation_data=(x_train[val], y_train[val]), epochs=EPOCHS, shuffle=True, verbose=1)\n",
    "        val_loss[:,fold] = history.history['val_loss']\n",
    "        fold += 1\n",
    "\n",
    "    val_mean = np.mean(val_loss,axis=1)\n",
    "    best_loss = np.min(val_mean)\n",
    "    best_epoch = np.argmin(val_mean)\n",
    "    print('Best epoch: {} Best loss: {}'.format(best_epoch,best_loss))\n",
    "    \n",
    "    gru.set_weights(weights)\n",
    "    gru.reset_states()\n",
    "    gru.fit(x_train, y_train, batch_size=BATCH_SIZE, epochs=best_epoch, shuffle=True, verbose=1)\n",
    "\n",
    "    #model.save('models/gru_{}_{}.h5'.format(bag+1,best_loss))"
   ]
  }
 ],
 "metadata": {
  "kernelspec": {
   "display_name": "Python 3",
   "language": "python",
   "name": "python3"
  },
  "language_info": {
   "codemirror_mode": {
    "name": "ipython",
    "version": 3
   },
   "file_extension": ".py",
   "mimetype": "text/x-python",
   "name": "python",
   "nbconvert_exporter": "python",
   "pygments_lexer": "ipython3",
   "version": "3.7.4"
  }
 },
 "nbformat": 4,
 "nbformat_minor": 2
}
