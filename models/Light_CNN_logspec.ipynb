{
 "cells": [
  {
   "cell_type": "code",
   "execution_count": 1,
   "metadata": {},
   "outputs": [
    {
     "data": {
      "text/plain": [
       "((64727, 99, 81, 1), (64727, 12))"
      ]
     },
     "execution_count": 1,
     "metadata": {},
     "output_type": "execute_result"
    }
   ],
   "source": [
    "import numpy as np\n",
    "import h5py\n",
    "\n",
    "hf_x = h5py.File('../data/logspec_x.h5', 'r')\n",
    "x_train = hf_x.get('x_train_data')[()]\n",
    "\n",
    "hf_y = h5py.File('../data/logspec_y.h5', 'r')\n",
    "y_train = hf_y.get('y_train_data')[()]\n",
    "\n",
    "(x_train.shape, y_train.shape)"
   ]
  },
  {
   "cell_type": "code",
   "execution_count": 2,
   "metadata": {},
   "outputs": [],
   "source": [
    "from tensorflow.keras.layers import GRU, GlobalMaxPooling2D, Convolution2D, Dense, Input, Flatten, Dropout, MaxPooling2D, BatchNormalization, Conv3D, ConvLSTM2D\n",
    "from tensorflow.keras.models import Sequential, Model\n",
    "from sklearn.model_selection import GroupKFold\n",
    "from sklearn.model_selection import train_test_split"
   ]
  },
  {
   "cell_type": "code",
   "execution_count": 5,
   "metadata": {},
   "outputs": [
    {
     "name": "stdout",
     "output_type": "stream",
     "text": [
      "Model: \"model_2\"\n",
      "_________________________________________________________________\n",
      "Layer (type)                 Output Shape              Param #   \n",
      "=================================================================\n",
      "input_3 (InputLayer)         [(None, 99, 81, 1)]       0         \n",
      "_________________________________________________________________\n",
      "batch_normalization_v2_6 (Ba (None, 99, 81, 1)         4         \n",
      "_________________________________________________________________\n",
      "conv2d_10 (Conv2D)           (None, 98, 80, 8)         40        \n",
      "_________________________________________________________________\n",
      "conv2d_11 (Conv2D)           (None, 97, 79, 8)         264       \n",
      "_________________________________________________________________\n",
      "max_pooling2d_6 (MaxPooling2 (None, 48, 39, 8)         0         \n",
      "_________________________________________________________________\n",
      "dropout_6 (Dropout)          (None, 48, 39, 8)         0         \n",
      "_________________________________________________________________\n",
      "conv2d_12 (Conv2D)           (None, 46, 37, 16)        1168      \n",
      "_________________________________________________________________\n",
      "conv2d_13 (Conv2D)           (None, 44, 35, 16)        2320      \n",
      "_________________________________________________________________\n",
      "max_pooling2d_7 (MaxPooling2 (None, 22, 17, 16)        0         \n",
      "_________________________________________________________________\n",
      "dropout_7 (Dropout)          (None, 22, 17, 16)        0         \n",
      "_________________________________________________________________\n",
      "conv2d_14 (Conv2D)           (None, 20, 15, 32)        4640      \n",
      "_________________________________________________________________\n",
      "max_pooling2d_8 (MaxPooling2 (None, 10, 7, 32)         0         \n",
      "_________________________________________________________________\n",
      "dropout_8 (Dropout)          (None, 10, 7, 32)         0         \n",
      "_________________________________________________________________\n",
      "flatten_2 (Flatten)          (None, 2240)              0         \n",
      "_________________________________________________________________\n",
      "dense_6 (Dense)              (None, 128)               286848    \n",
      "_________________________________________________________________\n",
      "batch_normalization_v2_7 (Ba (None, 128)               512       \n",
      "_________________________________________________________________\n",
      "dense_7 (Dense)              (None, 128)               16512     \n",
      "_________________________________________________________________\n",
      "batch_normalization_v2_8 (Ba (None, 128)               512       \n",
      "_________________________________________________________________\n",
      "dense_8 (Dense)              (None, 12)                1548      \n",
      "=================================================================\n",
      "Total params: 314,368\n",
      "Trainable params: 313,854\n",
      "Non-trainable params: 514\n",
      "_________________________________________________________________\n",
      "Train on 47185 samples, validate on 5243 samples\n",
      "Epoch 1/10\n",
      "47185/47185 [==============================] - 125s 3ms/sample - loss: 1.1467 - categorical_accuracy: 0.6616 - val_loss: 0.6097 - val_categorical_accuracy: 0.7984\n",
      "Epoch 2/10\n",
      "47185/47185 [==============================] - 124s 3ms/sample - loss: 0.6250 - categorical_accuracy: 0.7938 - val_loss: 0.4577 - val_categorical_accuracy: 0.8537\n",
      "Epoch 3/10\n",
      "47185/47185 [==============================] - 125s 3ms/sample - loss: 0.4942 - categorical_accuracy: 0.8367 - val_loss: 0.3643 - val_categorical_accuracy: 0.8879\n",
      "Epoch 4/10\n",
      "47185/47185 [==============================] - 124s 3ms/sample - loss: 0.4212 - categorical_accuracy: 0.8625 - val_loss: 0.3035 - val_categorical_accuracy: 0.9096\n",
      "Epoch 5/10\n",
      "47185/47185 [==============================] - 124s 3ms/sample - loss: 0.3785 - categorical_accuracy: 0.8765 - val_loss: 0.2960 - val_categorical_accuracy: 0.9088\n",
      "Epoch 6/10\n",
      "47185/47185 [==============================] - 124s 3ms/sample - loss: 0.3474 - categorical_accuracy: 0.8872 - val_loss: 0.2487 - val_categorical_accuracy: 0.9237\n",
      "Epoch 7/10\n",
      "47185/47185 [==============================] - 125s 3ms/sample - loss: 0.3191 - categorical_accuracy: 0.8963 - val_loss: 0.2577 - val_categorical_accuracy: 0.9241\n",
      "Epoch 8/10\n",
      "47185/47185 [==============================] - 123s 3ms/sample - loss: 0.2991 - categorical_accuracy: 0.9015 - val_loss: 0.2392 - val_categorical_accuracy: 0.9271\n",
      "Epoch 9/10\n",
      "47185/47185 [==============================] - 124s 3ms/sample - loss: 0.2777 - categorical_accuracy: 0.9105 - val_loss: 0.2360 - val_categorical_accuracy: 0.9340\n",
      "Epoch 10/10\n",
      "47185/47185 [==============================] - 124s 3ms/sample - loss: 0.2716 - categorical_accuracy: 0.9117 - val_loss: 0.2310 - val_categorical_accuracy: 0.9289\n"
     ]
    },
    {
     "data": {
      "text/plain": [
       "<tensorflow.python.keras.callbacks.History at 0x7fa2faa4d1d0>"
      ]
     },
     "execution_count": 5,
     "metadata": {},
     "output_type": "execute_result"
    }
   ],
   "source": [
    "input_shape = (99, 81, 1)\n",
    "nclass = 12\n",
    "inp = Input(shape=input_shape)\n",
    "norm_inp = BatchNormalization()(inp)\n",
    "img_1 = Convolution2D(8, kernel_size=2, activation='relu')(norm_inp)\n",
    "img_1 = Convolution2D(8, kernel_size=2, activation='relu')(img_1)\n",
    "img_1 = MaxPooling2D(pool_size=(2, 2))(img_1)\n",
    "img_1 = Dropout(rate=0.2)(img_1)\n",
    "img_1 = Convolution2D(16, kernel_size=3, activation='relu')(img_1)\n",
    "img_1 = Convolution2D(16, kernel_size=3, activation='relu')(img_1)\n",
    "img_1 = MaxPooling2D(pool_size=(2, 2))(img_1)\n",
    "img_1 = Dropout(rate=0.2)(img_1)\n",
    "img_1 = Convolution2D(32, kernel_size=3, activation='relu')(img_1)\n",
    "img_1 = MaxPooling2D(pool_size=(2, 2))(img_1)\n",
    "img_1 = Dropout(rate=0.2)(img_1)\n",
    "img_1 = Flatten()(img_1)\n",
    "\n",
    "dense_1 = BatchNormalization()(Dense(128, activation='relu')(img_1))\n",
    "dense_1 = BatchNormalization()(Dense(128, activation='relu')(dense_1))\n",
    "dense_1 = Dense(nclass, activation='softmax')(dense_1)\n",
    "\n",
    "cnn = Model(inputs=inp, outputs=dense_1)\n",
    "#opt = optimizers.Adam()\n",
    "\n",
    "cnn.compile(optimizer='adam',loss='categorical_crossentropy',metrics=['categorical_accuracy'])\n",
    "cnn.summary()\n",
    "\n",
    "x_train, x_valid, y_train, y_valid = train_test_split(x_train, y_train, test_size=0.1, random_state=2017)\n",
    "cnn.fit(x_train, y_train, batch_size=16, validation_data=(x_valid, y_valid), epochs=10, shuffle=True, verbose=1)"
   ]
  },
  {
   "cell_type": "code",
   "execution_count": null,
   "metadata": {},
   "outputs": [],
   "source": []
  }
 ],
 "metadata": {
  "kernelspec": {
   "display_name": "Python 3",
   "language": "python",
   "name": "python3"
  },
  "language_info": {
   "codemirror_mode": {
    "name": "ipython",
    "version": 3
   },
   "file_extension": ".py",
   "mimetype": "text/x-python",
   "name": "python",
   "nbconvert_exporter": "python",
   "pygments_lexer": "ipython3",
   "version": "3.7.4"
  }
 },
 "nbformat": 4,
 "nbformat_minor": 2
}
